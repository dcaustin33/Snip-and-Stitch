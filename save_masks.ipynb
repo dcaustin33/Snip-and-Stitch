{
 "cells": [
  {
   "attachments": {},
   "cell_type": "markdown",
   "metadata": {},
   "source": []
  },
  {
   "cell_type": "code",
   "execution_count": 1,
   "metadata": {},
   "outputs": [
    {
     "name": "stdout",
     "output_type": "stream",
     "text": [
      "Running on local URL:  http://127.0.0.1:7860\n",
      "Running on public URL: https://d12ffb345be4a6b4ad.gradio.live\n",
      "\n",
      "This share link expires in 72 hours. For free permanent hosting and GPU upgrades (NEW!), check out Spaces: https://huggingface.co/spaces\n"
     ]
    },
    {
     "data": {
      "text/html": [
       "<div><iframe src=\"https://d12ffb345be4a6b4ad.gradio.live\" width=\"100%\" height=\"500\" allow=\"autoplay; camera; microphone; clipboard-read; clipboard-write;\" frameborder=\"0\" allowfullscreen></iframe></div>"
      ],
      "text/plain": [
       "<IPython.core.display.HTML object>"
      ]
     },
     "metadata": {},
     "output_type": "display_data"
    }
   ],
   "source": [
    "import gradio as gr\n",
    "\n",
    "COUNTER = 1\n",
    "# image path is where you will save the resized image\n",
    "IMAGE_PATH = \".\"\n",
    "# mask path is where you will save the resized mask\n",
    "MASK_PATH = \".\"\n",
    "\n",
    "def predict(dict, prompt):\n",
    "  global COUNTER\n",
    "  global IMAGE_PATH\n",
    "  global MASK_PATH\n",
    "  image =  dict['image'].convert(\"RGB\").resize((512, 512))\n",
    "  image.save(f\"{IMAGE_PATH}/hand{COUNTER}.png\")\n",
    "  mask_image = dict['mask'].convert(\"RGB\").resize((512, 512))\n",
    "  mask_image.save(f\"{MASK_PATH}/visualized_beard_mask{COUNTER}.png\")\n",
    "  COUNTER += 1\n",
    "  return image\n",
    "\n",
    "\n",
    "\n",
    "gr.Interface(\n",
    "    predict,\n",
    "    title = 'Stable Diffusion In-Painting',\n",
    "    inputs=[\n",
    "        gr.Image(source = 'upload', tool = 'sketch', type = 'pil'),\n",
    "        gr.Textbox(label = 'prompt')\n",
    "    ],\n",
    "    outputs = [\n",
    "        gr.Image()\n",
    "        ]\n",
    ").launch(debug=True, share=True)\n",
    "\n"
   ]
  }
 ],
 "metadata": {
  "kernelspec": {
   "display_name": "pytorch",
   "language": "python",
   "name": "python3"
  },
  "language_info": {
   "codemirror_mode": {
    "name": "ipython",
    "version": 3
   },
   "file_extension": ".py",
   "mimetype": "text/x-python",
   "name": "python",
   "nbconvert_exporter": "python",
   "pygments_lexer": "ipython3",
   "version": "3.9.13"
  },
  "orig_nbformat": 4
 },
 "nbformat": 4,
 "nbformat_minor": 2
}
